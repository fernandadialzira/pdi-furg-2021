{
 "cells": [
  {
   "cell_type": "markdown",
   "id": "76b571e1",
   "metadata": {},
   "source": [
    "# Rotina para fazer suavização - IPDIO atividade avaliativa"
   ]
  },
  {
   "cell_type": "markdown",
   "id": "4a7ecf21",
   "metadata": {},
   "source": [
    "Projeto Carina, Fernanda e Jeandria"
   ]
  },
  {
   "cell_type": "code",
   "execution_count": 3,
   "id": "e5f2bf44",
   "metadata": {},
   "outputs": [
    {
     "ename": "AttributeError",
     "evalue": "module 'numpy' has no attribute 'ndarray'",
     "output_type": "error",
     "traceback": [
      "\u001b[1;31m---------------------------------------------------------------------------\u001b[0m",
      "\u001b[1;31mAttributeError\u001b[0m                            Traceback (most recent call last)",
      "\u001b[1;32m<ipython-input-3-466c9254d17f>\u001b[0m in \u001b[0;36m<module>\u001b[1;34m\u001b[0m\n\u001b[0;32m      5\u001b[0m \u001b[1;31m#####\u001b[0m\u001b[1;33m\u001b[0m\u001b[1;33m\u001b[0m\u001b[1;33m\u001b[0m\u001b[0m\n\u001b[0;32m      6\u001b[0m \u001b[1;33m\u001b[0m\u001b[0m\n\u001b[1;32m----> 7\u001b[1;33m \u001b[1;32mimport\u001b[0m \u001b[0mpygrib\u001b[0m\u001b[1;33m\u001b[0m\u001b[1;33m\u001b[0m\u001b[0m\n\u001b[0m\u001b[0;32m      8\u001b[0m \u001b[1;32mimport\u001b[0m \u001b[0mxarray\u001b[0m \u001b[1;32mas\u001b[0m \u001b[0mxr\u001b[0m\u001b[1;33m\u001b[0m\u001b[1;33m\u001b[0m\u001b[0m\n\u001b[0;32m      9\u001b[0m \u001b[1;32mimport\u001b[0m \u001b[0mnumpy\u001b[0m \u001b[1;32mas\u001b[0m \u001b[0mnp\u001b[0m\u001b[1;33m\u001b[0m\u001b[1;33m\u001b[0m\u001b[0m\n",
      "\u001b[1;32m~\\anaconda3\\lib\\site-packages\\pygrib\\__init__.py\u001b[0m in \u001b[0;36m<module>\u001b[1;34m\u001b[0m\n\u001b[0;32m      1\u001b[0m \u001b[1;31m# init for pygrib package\u001b[0m\u001b[1;33m\u001b[0m\u001b[1;33m\u001b[0m\u001b[1;33m\u001b[0m\u001b[0m\n\u001b[1;32m----> 2\u001b[1;33m \u001b[1;32mfrom\u001b[0m \u001b[1;33m.\u001b[0m\u001b[0m_pygrib\u001b[0m \u001b[1;32mimport\u001b[0m \u001b[1;33m*\u001b[0m\u001b[1;33m\u001b[0m\u001b[1;33m\u001b[0m\u001b[0m\n\u001b[0m\u001b[0;32m      3\u001b[0m \u001b[1;31m# Need explicit imports for names beginning with underscores\u001b[0m\u001b[1;33m\u001b[0m\u001b[1;33m\u001b[0m\u001b[1;33m\u001b[0m\u001b[0m\n\u001b[0;32m      4\u001b[0m \u001b[1;32mfrom\u001b[0m \u001b[1;33m.\u001b[0m\u001b[0m_pygrib\u001b[0m \u001b[1;32mimport\u001b[0m \u001b[0m__doc__\u001b[0m\u001b[1;33m,\u001b[0m \u001b[0m__version__\u001b[0m\u001b[1;33m\u001b[0m\u001b[1;33m\u001b[0m\u001b[0m\n",
      "\u001b[1;32mpygrib\\_pygrib.pyx\u001b[0m in \u001b[0;36minit pygrib._pygrib\u001b[1;34m()\u001b[0m\n",
      "\u001b[1;31mAttributeError\u001b[0m: module 'numpy' has no attribute 'ndarray'"
     ]
    }
   ],
   "source": [
    "#####Funções de suavização com MetPy\n",
    "# Baseado no arquivo Smoothing.py de:\n",
    "# https://unidata.github.io/MetPy/latest/examples/calculations/Smoothing.html\n",
    "#\n",
    "#####\n",
    "\n",
    "import pygrib\n",
    "import xarray as xr\n",
    "import numpy as np\n",
    "import matplotlib.pyplot as plt\n",
    "import pygrib\n",
    "import cartopy.crs as ccrs\n",
    "import cartopy.feature as cfeature\n",
    "import cartopy.io.shapereader as shpreader\n",
    "import metpy.calc as mpcalc\n",
    "from itertools import product\n",
    "from cartopy.mpl.gridliner import LONGITUDE_FORMATTER, LATITUDE_FORMATTER"
   ]
  },
  {
   "cell_type": "code",
   "execution_count": null,
   "id": "cf735885",
   "metadata": {},
   "outputs": [],
   "source": [
    "#### Buscando dados de vorticidade e pressão do ERA5:\n",
    "#Abrindo os arquivos:\n",
    "file = 'dados_grib/nivelpress/vorticidade_20200701.grib'\n",
    "grbs = pygrib.open(file)"
   ]
  },
  {
   "cell_type": "code",
   "execution_count": null,
   "id": "3e7d24c7",
   "metadata": {},
   "outputs": [],
   "source": [
    "grbs.seek(0)"
   ]
  },
  {
   "cell_type": "code",
   "execution_count": null,
   "id": "1a4a385a",
   "metadata": {},
   "outputs": [],
   "source": [
    "#Abrindo as variáveis:\n",
    "grb_vort_850_t0 = grbs.select(name='Vorticity (relative)',level=850)[18]\n",
    "vort_850 = grb_vort_850_t0.values\n",
    "#Para o valor de vorticidade em unidade mais amigavel, multiplicar por 10000:\n",
    "vort_850a = 10000*vort_850\n",
    "#Buscando a latitude e longitude do arquivo do ERA5:\n",
    "for g in grbs:\n",
    "    lats, lons = g.latlons()\n",
    "    lats, lons = np.array(lats), np.array(lons)"
   ]
  },
  {
   "cell_type": "code",
   "execution_count": null,
   "id": "0864c185",
   "metadata": {},
   "outputs": [],
   "source": [
    "####Plotar com mais informações geográficas:\n",
    "\n",
    "# Para colocar os estados no mapa:\n",
    "estados_br= 'estados_Brasil/estados_2010.shp'\n",
    "adm1_shapes = list(shpreader.Reader(estados_br).geometries())\n",
    "# Informações sobre os limites do mapa:\n",
    "extent = [-60, -30, -20, -50]"
   ]
  },
  {
   "cell_type": "code",
   "execution_count": null,
   "id": "1ee3d221",
   "metadata": {},
   "outputs": [],
   "source": [
    "# Na projeção PlateCarree:\n",
    "ax = plt.axes(projection=ccrs.PlateCarree())\n",
    "ax.add_geometries(adm1_shapes,ccrs.PlateCarree(), edgecolor='black', facecolor='none', alpha=0.5)\n",
    "ax.add_feature(cfeature.LAND)\n",
    "ax.add_feature(cfeature.LAKES)\n",
    "ax.gridlines(crs=ccrs.PlateCarree(),\n",
    "       draw_labels=True,linewidth=0.5,color='gray',\n",
    "       alpha=0.5,linestyle='--')\n",
    "ax.xformatter = LONGITUDE_FORMATTER\n",
    "ax.yformatter = LATITUDE_FORMATTER\n",
    "ax.set_extent(extent)"
   ]
  },
  {
   "cell_type": "code",
   "execution_count": null,
   "id": "cd911d55",
   "metadata": {},
   "outputs": [],
   "source": [
    "# Coloca um fundo legal com relevo e oceano:\n",
    "#ax.stock_img()\n",
    "ax.add_feature(cfeature.BORDERS)\n",
    "#ax.gridlines()\n",
    "ax.coastlines(resolution='50m')"
   ]
  },
  {
   "cell_type": "code",
   "execution_count": null,
   "id": "5aa78405",
   "metadata": {},
   "outputs": [],
   "source": [
    "# Plotar vorticidade no mapa:\n",
    "vortic_850 = ax.contourf(lons,lats,vort_850a,levels=10, vmax=-1,cmap='hot')"
   ]
  },
  {
   "cell_type": "code",
   "execution_count": null,
   "id": "f3c103d8",
   "metadata": {},
   "outputs": [],
   "source": [
    "# Coloca o titulo:\n",
    "plt.title('Vorticidade em 850 hPa \\n em 01/07/2020, 18 horas')\n",
    "# Coloca a barra lateral de cores da vorticidade:\n",
    "plt.colorbar(vortic_850)\n",
    "# Coloca a informacao em um arquivo:\n",
    "plt.savefig('vort850_s_suav_20200701_18.png')\n",
    "print('Campo de vorticidade sem suavização')\n",
    "plt.show()"
   ]
  },
  {
   "cell_type": "markdown",
   "id": "52ad7daf",
   "metadata": {},
   "source": [
    "# Metodos de suavizacao"
   ]
  },
  {
   "cell_type": "code",
   "execution_count": null,
   "id": "c1a8f724",
   "metadata": {},
   "outputs": [],
   "source": [
    "# Para colocar os estados no mapa:\n",
    "estados_br= 'estados_Brasil/estados_2010.shp'\n",
    "adm1_shapes = list(shpreader.Reader(estados_br).geometries())\n",
    "# Informações sobre os limites do mapa:\n",
    "extent = [-60, -30, -20, -50]"
   ]
  },
  {
   "cell_type": "code",
   "execution_count": null,
   "id": "d0747c99",
   "metadata": {},
   "outputs": [],
   "source": [
    "# Na projeção PlateCarree:\n",
    "ax = plt.axes(projection=ccrs.PlateCarree())\n",
    "ax.add_geometries(adm1_shapes,ccrs.PlateCarree(), edgecolor='black', facecolor='none', alpha=0.5)\n",
    "ax.add_feature(cfeature.LAND)\n",
    "ax.add_feature(cfeature.LAKES)\n",
    "ax.gridlines(crs=ccrs.PlateCarree(),\n",
    "       draw_labels=True,linewidth=0.5,color='gray',\n",
    "       alpha=0.5,linestyle='--')\n",
    "ax.xformatter = LONGITUDE_FORMATTER\n",
    "ax.yformatter = LATITUDE_FORMATTER\n",
    "ax.set_extent(extent)"
   ]
  },
  {
   "cell_type": "code",
   "execution_count": null,
   "id": "58013eab",
   "metadata": {},
   "outputs": [],
   "source": [
    "# Coloca um fundo legal com relevo e oceano:\n",
    "#ax.stock_img()\n",
    "ax.add_feature(cfeature.BORDERS)\n",
    "ax.coastlines(resolution='50m')"
   ]
  },
  {
   "cell_type": "markdown",
   "id": "e7e9b899",
   "metadata": {},
   "source": [
    "Gaussian smoother"
   ]
  },
  {
   "cell_type": "code",
   "execution_count": null,
   "id": "34def683",
   "metadata": {},
   "outputs": [],
   "source": [
    "############### Gaussian Smoother ###############\n",
    "#gaussian1 = mpcalc.smooth_gaussian(vort_850a, 3)\n",
    "gaus1 = ax.contourf(lons,lats,mpcalc.smooth_gaussian(vort_850a, 3),levels=10, vmax=-1,cmap='hot')\n",
    "plt.title('Vorticidade em 850 hPa \\n em 01/07/2020, 18 horas\\n Gaussian - Low Degree')\n",
    "# Coloca a barra lateral de cores da vorticidade:\n",
    "plt.colorbar(gaus1)\n",
    "# Coloca a informacao em um arquivo:\n",
    "plt.savefig('vort850_gaus1_20200701_18.png')\n",
    "print('Campo de vorticidade com suavização - Gaussian - Low Degree')\n",
    "#axa[0, 0].imshow(mpcalc.smooth_gaussian(vort_850a, 3))\n",
    "#axa[0, 0].set_title('Gaussian - Low Degree')\n",
    "plt.show()\n"
   ]
  },
  {
   "cell_type": "code",
   "execution_count": null,
   "id": "ceac9282",
   "metadata": {},
   "outputs": [],
   "source": [
    "####Plotar com mais informações geográficas:\n",
    "\n",
    "# Para colocar os estados no mapa:\n",
    "estados_br= 'estados_Brasil/estados_2010.shp'\n",
    "adm1_shapes = list(shpreader.Reader(estados_br).geometries())\n",
    "# Informações sobre os limites do mapa:\n",
    "extent = [-60, -30, -20, -50]\n",
    "# Na projeção PlateCarree:\n",
    "ax = plt.axes(projection=ccrs.PlateCarree())\n",
    "ax.add_geometries(adm1_shapes,ccrs.PlateCarree(), edgecolor='black', facecolor='none', alpha=0.5)\n",
    "ax.add_feature(cfeature.LAND)\n",
    "ax.add_feature(cfeature.LAKES)\n",
    "ax.gridlines(crs=ccrs.PlateCarree(),\n",
    "       draw_labels=True,linewidth=0.5,color='gray',\n",
    "       alpha=0.5,linestyle='--')\n",
    "ax.xformatter = LONGITUDE_FORMATTER\n",
    "ax.yformatter = LATITUDE_FORMATTER\n",
    "ax.set_extent(extent)"
   ]
  },
  {
   "cell_type": "code",
   "execution_count": null,
   "id": "5062f022",
   "metadata": {},
   "outputs": [],
   "source": [
    "# Coloca um fundo legal com relevo e oceano:\n",
    "#ax.stock_img()\n",
    "ax.add_feature(cfeature.BORDERS)\n",
    "#ax.gridlines()\n",
    "ax.coastlines(resolution='50m')"
   ]
  },
  {
   "cell_type": "markdown",
   "id": "ef61c056",
   "metadata": {},
   "source": [
    "Gassian - High Degree"
   ]
  },
  {
   "cell_type": "code",
   "execution_count": null,
   "id": "b62b0f8c",
   "metadata": {},
   "outputs": [],
   "source": [
    "############### Gassian - High Degree ###############\n",
    "gaus2 = ax.contourf(lons,lats,mpcalc.smooth_gaussian(vort_850a, 8),levels=10, vmax=-1,cmap='hot')\n",
    "plt.title('Vorticidade em 850 hPa \\n em 01/07/2020, 18 horas\\n Gaussian - High Degree')\n",
    "# Coloca a barra lateral de cores da vorticidade:\n",
    "plt.colorbar(gaus2)\n",
    "# Coloca a informacao em um arquivo:\n",
    "plt.savefig('vort850_gaus2_20200701_18.png')\n",
    "print('Campo de vorticidade com suavização - Gaussian - High Degree')\n",
    "#axa[0, 1].imshow(mpcalc.smooth_gaussian(vort_850a, 8), vmax=-1)\n",
    "#axa[0, 1].set_title('Gaussian - High Degree')\n",
    "plt.show()"
   ]
  },
  {
   "cell_type": "code",
   "execution_count": null,
   "id": "dddb40b9",
   "metadata": {},
   "outputs": [],
   "source": [
    "####Plotar com mais informações geográficas:\n",
    "\n",
    "# Para colocar os estados no mapa:\n",
    "estados_br= 'estados_Brasil/estados_2010.shp'\n",
    "adm1_shapes = list(shpreader.Reader(estados_br).geometries())\n",
    "# Informações sobre os limites do mapa:\n",
    "extent = [-60, -30, -20, -50]\n",
    "# Na projeção PlateCarree:\n",
    "ax = plt.axes(projection=ccrs.PlateCarree())\n",
    "ax.add_geometries(adm1_shapes,ccrs.PlateCarree(), edgecolor='black', facecolor='none', alpha=0.5)\n",
    "ax.add_feature(cfeature.LAND)\n",
    "ax.add_feature(cfeature.LAKES)\n",
    "ax.gridlines(crs=ccrs.PlateCarree(),\n",
    "       draw_labels=True,linewidth=0.5,color='gray',\n",
    "       alpha=0.5,linestyle='--')\n",
    "ax.xformatter = LONGITUDE_FORMATTER\n",
    "ax.yformatter = LATITUDE_FORMATTER\n",
    "ax.set_extent(extent)\n",
    "# Coloca um fundo legal com relevo e oceano:\n",
    "#ax.stock_img()\n",
    "ax.add_feature(cfeature.BORDERS)\n",
    "#ax.gridlines()\n",
    "ax.coastlines(resolution='50m')"
   ]
  },
  {
   "cell_type": "markdown",
   "id": "5dc258b5",
   "metadata": {},
   "source": [
    "Rectangular Smoother"
   ]
  },
  {
   "cell_type": "code",
   "execution_count": null,
   "id": "0b618358",
   "metadata": {},
   "outputs": [],
   "source": [
    "rec_smo = ax.contourf(lons,lats,mpcalc.smooth_rectangular(vort_850a, (3, 7), 2),levels=10, vmax=-1,cmap='hot')\n",
    "plt.title('Vorticidade em 850 hPa \\n em 01/07/2020, 18 horas\\n Rectangular Smoother')\n",
    "# Coloca a barra lateral de cores da vorticidade:\n",
    "plt.colorbar(rec_smo)\n",
    "# Coloca a informacao em um arquivo:\n",
    "plt.savefig('vort850_rec_smo_20200701_18.png')\n",
    "print('Campo de vorticidade com suavização - Rectangular Smoother')\n",
    "#axa[0, 2].imshow(mpcalc.smooth_rectangular(vort_850a, (3, 7), 2), vmax=-1,cmap='hot')\n",
    "#axa[0, 2].set_title('Rectangular - 3x7 Window\\n2 Passes')\n",
    "plt.show()"
   ]
  },
  {
   "cell_type": "code",
   "execution_count": null,
   "id": "3ee221b8",
   "metadata": {},
   "outputs": [],
   "source": [
    "####Plotar com mais informações geográficas:\n",
    "\n",
    "# Para colocar os estados no mapa:\n",
    "estados_br= 'estados_Brasil/estados_2010.shp'\n",
    "adm1_shapes = list(shpreader.Reader(estados_br).geometries())\n",
    "# Informações sobre os limites do mapa:\n",
    "extent = [-60, -30, -20, -50]\n",
    "# Na projeção PlateCarree:\n",
    "ax = plt.axes(projection=ccrs.PlateCarree())\n",
    "ax.add_geometries(adm1_shapes,ccrs.PlateCarree(), edgecolor='black', facecolor='none', alpha=0.5)\n",
    "ax.add_feature(cfeature.LAND)\n",
    "ax.add_feature(cfeature.LAKES)\n",
    "ax.gridlines(crs=ccrs.PlateCarree(),\n",
    "       draw_labels=True,linewidth=0.5,color='gray',\n",
    "       alpha=0.5,linestyle='--')\n",
    "ax.xformatter = LONGITUDE_FORMATTER\n",
    "ax.yformatter = LATITUDE_FORMATTER\n",
    "ax.set_extent(extent)\n",
    "# Coloca um fundo legal com relevo e oceano:\n",
    "#ax.stock_img()\n",
    "ax.add_feature(cfeature.BORDERS)\n",
    "#ax.gridlines()\n",
    "ax.coastlines(resolution='50m')"
   ]
  },
  {
   "cell_type": "markdown",
   "id": "55311514",
   "metadata": {},
   "source": [
    "5-point smoother"
   ]
  },
  {
   "cell_type": "code",
   "execution_count": null,
   "id": "b0b5d572",
   "metadata": {},
   "outputs": [],
   "source": [
    "smo_5_1 = ax.contourf(lons,lats,mpcalc.smooth_n_point(vort_850a, 5, 1),levels=10, vmax=-1,cmap='hot')\n",
    "plt.title('Vorticidade em 850 hPa \\n em 01/07/2020, 18 horas\\n 5-Point - 1 Pass')\n",
    "# Coloca a barra lateral de cores da vorticidade:\n",
    "plt.colorbar(smo_5_1)\n",
    "# Coloca a informacao em um arquivo:\n",
    "plt.savefig('vort850_smo_5_1_20200701_18.png')\n",
    "print('Campo de vorticidade com suavização - 5-Point - 1 Pass')\n",
    "#axa[1, 0].imshow(mpcalc.smooth_n_point(vort_850a, 5, 1), vmax=-1,cmap='hot')\n",
    "#axa[1, 0].set_title('5-Point - 1 Pass')\n",
    "plt.show()"
   ]
  },
  {
   "cell_type": "code",
   "execution_count": null,
   "id": "996becc0",
   "metadata": {},
   "outputs": [],
   "source": [
    "####Plotar com mais informações geográficas:\n",
    "\n",
    "# Para colocar os estados no mapa:\n",
    "estados_br= 'estados_Brasil/estados_2010.shp'\n",
    "adm1_shapes = list(shpreader.Reader(estados_br).geometries())\n",
    "# Informações sobre os limites do mapa:\n",
    "extent = [-60, -30, -20, -50]\n",
    "# Na projeção PlateCarree:\n",
    "ax = plt.axes(projection=ccrs.PlateCarree())\n",
    "ax.add_geometries(adm1_shapes,ccrs.PlateCarree(), edgecolor='black', facecolor='none', alpha=0.5)\n",
    "ax.add_feature(cfeature.LAND)\n",
    "ax.add_feature(cfeature.LAKES)\n",
    "ax.gridlines(crs=ccrs.PlateCarree(),\n",
    "       draw_labels=True,linewidth=0.5,color='gray',\n",
    "       alpha=0.5,linestyle='--')\n",
    "ax.xformatter = LONGITUDE_FORMATTER\n",
    "ax.yformatter = LATITUDE_FORMATTER\n",
    "ax.set_extent(extent)\n",
    "# Coloca um fundo legal com relevo e oceano:\n",
    "#ax.stock_img()\n",
    "ax.add_feature(cfeature.BORDERS)\n",
    "ax.coastlines(resolution='50m')"
   ]
  },
  {
   "cell_type": "markdown",
   "id": "f55b6bbf",
   "metadata": {},
   "source": [
    "5-Poit - 4 Pass"
   ]
  },
  {
   "cell_type": "code",
   "execution_count": null,
   "id": "231dcd1e",
   "metadata": {},
   "outputs": [],
   "source": [
    "############### 5-Poit - 4 Pass ###############\n",
    "smo_5_4 = ax.contourf(lons,lats,mpcalc.smooth_n_point(vort_850a, 5, 4),levels=10, vmax=-1,cmap='hot')\n",
    "plt.title('Vorticidade em 850 hPa \\n em 01/07/2020, 18 horas\\n 5-Point - 4 Pass')\n",
    "# Coloca a barra lateral de cores da vorticidade:\n",
    "plt.colorbar(smo_5_4)\n",
    "# Coloca a informacao em um arquivo:\n",
    "plt.savefig('vort850_smo_5_4_20200701_18.png')\n",
    "print('Campo de vorticidade com suavização - 5-Point - 4 Pass')\n",
    "#axa[1, 1].imshow(mpcalc.smooth_n_point(vort_850a, 5, 4), vmax=-1,cmap='hot')\n",
    "#axa[1, 1].set_title('5-Point - 4 Passes')\n",
    "plt.show()\n"
   ]
  },
  {
   "cell_type": "code",
   "execution_count": null,
   "id": "af1c3bf3",
   "metadata": {},
   "outputs": [],
   "source": [
    "####Plotar com mais informações geográficas:\n",
    "\n",
    "# Para colocar os estados no mapa:\n",
    "estados_br= 'estados_Brasil/estados_2010.shp'\n",
    "adm1_shapes = list(shpreader.Reader(estados_br).geometries())\n",
    "# Informações sobre os limites do mapa:\n",
    "extent = [-60, -30, -20, -50]\n",
    "# Na projeção PlateCarree:\n",
    "ax = plt.axes(projection=ccrs.PlateCarree())\n",
    "ax.add_geometries(adm1_shapes,ccrs.PlateCarree(), edgecolor='black', facecolor='none', alpha=0.5)\n",
    "ax.add_feature(cfeature.LAND)\n",
    "ax.add_feature(cfeature.LAKES)\n",
    "ax.gridlines(crs=ccrs.PlateCarree(),\n",
    "       draw_labels=True,linewidth=0.5,color='gray',\n",
    "       alpha=0.5,linestyle='--')\n",
    "ax.xformatter = LONGITUDE_FORMATTER\n",
    "ax.yformatter = LATITUDE_FORMATTER\n",
    "ax.set_extent(extent)\n",
    "ax.add_feature(cfeature.BORDERS)\n",
    "ax.coastlines(resolution='50m')\n"
   ]
  },
  {
   "cell_type": "markdown",
   "id": "ac33b04a",
   "metadata": {},
   "source": [
    "Circular Smoother"
   ]
  },
  {
   "cell_type": "code",
   "execution_count": null,
   "id": "2355fdb3",
   "metadata": {},
   "outputs": [],
   "source": [
    "############### Circular Smoother ###############\n",
    "circ_2_2 = ax.contourf(lons,lats,mpcalc.smooth_circular(vort_850a, 2, 2),levels=10, vmax=-1,cmap='hot')\n",
    "plt.title('Vorticidade em 850 hPa \\n em 01/07/2020, 18 horas\\n Circular - Radius 2, 2 Passes')\n",
    "# Coloca a barra lateral de cores da vorticidade:\n",
    "plt.colorbar(circ_2_2)\n",
    "# Coloca a informacao em um arquivo:\n",
    "plt.savefig('vort850_circ_2_2_20200701_18.png')\n",
    "print('Campo de vorticidade com suavização - Circular - Radius2, 2 Passes')\n",
    "plt.show()"
   ]
  },
  {
   "cell_type": "code",
   "execution_count": null,
   "id": "eb16def2",
   "metadata": {},
   "outputs": [],
   "source": [
    "# Para colocar os estados no mapa:\n",
    "estados_br= 'estados_Brasil/estados_2010.shp'\n",
    "adm1_shapes = list(shpreader.Reader(estados_br).geometries())\n",
    "# Informações sobre os limites do mapa:\n",
    "extent = [-60, -30, -20, -50]\n",
    "# Na projeção PlateCarree:\n",
    "ax = plt.axes(projection=ccrs.PlateCarree())\n",
    "ax.add_geometries(adm1_shapes,ccrs.PlateCarree(), edgecolor='black', facecolor='none', alpha=0.5)\n",
    "ax.add_feature(cfeature.LAND)\n",
    "ax.add_feature(cfeature.LAKES)\n",
    "ax.gridlines(crs=ccrs.PlateCarree(),\n",
    "       draw_labels=True,linewidth=0.5,color='gray',\n",
    "       alpha=0.5,linestyle='--')\n",
    "ax.xformatter = LONGITUDE_FORMATTER\n",
    "ax.yformatter = LATITUDE_FORMATTER\n",
    "ax.set_extent(extent)\n",
    "# Coloca um fundo legal com relevo e oceano:\n",
    "#ax.stock_img()\n",
    "ax.add_feature(cfeature.BORDERS)\n",
    "#ax.gridlines()\n",
    "ax.coastlines(resolution='50m')"
   ]
  },
  {
   "cell_type": "markdown",
   "id": "039774cb",
   "metadata": {},
   "source": [
    "Arbitrary Window Smoother"
   ]
  },
  {
   "cell_type": "code",
   "execution_count": null,
   "id": "81c8847f",
   "metadata": {},
   "outputs": [],
   "source": [
    "diag_smo = ax.contourf(lons,lats,mpcalc.smooth_window(vort_850a, np.diag(np.ones(5)), 2),levels=10, vmax=-1,cmap='hot')\n",
    "plt.title('Vorticidade em 850 hPa \\n em 01/07/2020, 18 horas\\n Diagonal, 2 Passes')\n",
    "# Coloca a barra lateral de cores da vorticidade:\n",
    "plt.colorbar(diag_smo)\n",
    "# Coloca a informacao em um arquivo:\n",
    "plt.savefig('vort850_diag_smo_20200701_18.png')\n",
    "print('Campo de vorticidade com suavização - Diagonal, 2 Passes')\n",
    "plt.show()"
   ]
  }
 ],
 "metadata": {
  "kernelspec": {
   "display_name": "Python 3",
   "language": "python",
   "name": "python3"
  },
  "language_info": {
   "codemirror_mode": {
    "name": "ipython",
    "version": 3
   },
   "file_extension": ".py",
   "mimetype": "text/x-python",
   "name": "python",
   "nbconvert_exporter": "python",
   "pygments_lexer": "ipython3",
   "version": "3.8.3"
  }
 },
 "nbformat": 4,
 "nbformat_minor": 5
}
